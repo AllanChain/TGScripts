{
 "cells": [
  {
   "cell_type": "markdown",
   "metadata": {
    "slideshow": {
     "slide_type": "slide"
    }
   },
   "source": [
    "# What did we do to make PyFTPHandler work\n",
    "\n",
    "- Register at `ftp\\shell\\open\\command`.\n",
    "- When a file open action is triggered by double click, the system made a temporary file (which is 0 byte) at `Internet Temporary Files/`.\n",
    "- The system call my program with the local temporary filename as the argument."
   ]
  },
  {
   "cell_type": "markdown",
   "metadata": {
    "slideshow": {
     "slide_type": "subslide"
    }
   },
   "source": [
    "- Then my program take over, get the real filename from the converted filename (which convert all spaces to underscores, and append a square brackets with number inside).\n",
    "- My program get the ftp folder information via win32api.\n",
    "- Then according to the rules specified by the user, it decides where to put the file.\n",
    "- Finally gets file information and downloads the file."
   ]
  },
  {
   "cell_type": "markdown",
   "metadata": {
    "slideshow": {
     "slide_type": "slide"
    }
   },
   "source": [
    "### What do you think of the process?"
   ]
  }
 ],
 "metadata": {
  "celltoolbar": "幻灯片",
  "kernelspec": {
   "display_name": "Python 3",
   "language": "python",
   "name": "python3"
  },
  "language_info": {
   "codemirror_mode": {
    "name": "ipython",
    "version": 3
   },
   "file_extension": ".py",
   "mimetype": "text/x-python",
   "name": "python",
   "nbconvert_exporter": "python",
   "pygments_lexer": "ipython3",
   "version": "3.7.2"
  }
 },
 "nbformat": 4,
 "nbformat_minor": 2
}
